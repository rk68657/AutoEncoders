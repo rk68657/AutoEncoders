{
 "cells": [
  {
   "cell_type": "code",
   "execution_count": 37,
   "metadata": {},
   "outputs": [],
   "source": [
    "import torch\n",
    "import torchvision\n",
    "import pandas as pd\n",
    "import numpy as np\n",
    "import matplotlib.pyplot as plt\n",
    "\n",
    "from torch import nn\n",
    "from torch.autograd import Variable\n",
    "from torch.utils import data"
   ]
  },
  {
   "cell_type": "markdown",
   "metadata": {},
   "source": [
    "# Data Preprocessing"
   ]
  },
  {
   "cell_type": "code",
   "execution_count": 38,
   "metadata": {},
   "outputs": [],
   "source": [
    "\n",
    "D = pd.read_csv('/home/gaia/NDO_UTILIZATION/Autoencodertestdata.csv')\n",
    "\n",
    "\n",
    "from sklearn.preprocessing import StandardScaler\n",
    "scaler = StandardScaler()\n",
    "for col in ['DL User Througput (kbps)_Last_7_days_Avg',\n",
    "       'UL User Throughput (kbps)_Last_7_days_Avg',\n",
    "       'Payload All_Last_7_days_Avg', 'Payload Ul ( MB)_Last_7_days_Avg',\n",
    "       'Payload DL ( MB )_Last_7_days_Avg', 'DL PRB UTIL_Last_7_days_Avg',\n",
    "       'Ul PRB UTIL_Last_7_days_Avg',\n",
    "       'DL User Througput (kbps).1_Last_7_days_Avg',\n",
    "       'QPSK Samples DL %_Last_7_days_Avg',\n",
    "       '16 QAM Samples Dl %_Last_7_days_Avg',\n",
    "       '64 QAM Samples DL %_Last_7_days_Avg',\n",
    "       '256 QAM Samples DL %_Last_7_days_Avg',\n",
    "       'UL User Throughput (kbps).1_Last_7_days_Avg',\n",
    "       'QPSK Samples UL %_Last_7_days_Avg',\n",
    "       '16 QAM Samples UL %_Last_7_days_Avg',\n",
    "       '64 QAM Samples Ul %_Last_7_days_Avg',\n",
    "       'Cell Average Thrp_UL_Last_7_days_Avg',\n",
    "       'Cell Average Thrp_DL_Last_7_days_Avg',\n",
    "       'pmRrcConnMax (max)_Last_7_days_Avg',\n",
    "       'pmRrcConnMax (sum)_Last_7_days_Avg', 'Hour_sin', 'Hour_cos', 'Weekend',\n",
    "       'is_day', 'is_morning', 'is_night', 'is_day_weekend', 'is_mor_weekend',\n",
    "       'is_nig_weekend', 'CellTDD_LD25099A', 'CellTDD_LD25099B',\n",
    "       'CellTDD_LD25099C', 'CellTDD_LD25099D', 'CellTDD_LD25099E',\n",
    "       'CellTDD_LD25099S', 'CellTDD_LD25099T', 'CellTDD_LD25099U',\n",
    "       'CellTDD_LD25099V', 'CellTDD_LD25099W', 'momentum', 'ma7', 'ma21',\n",
    "       '26ema', '12ema', 'MACD', '20sd', 'upper_band', 'lower_band', 'ema']:\n",
    "    scaler.fit(D[col].values.reshape(-1, 1))\n",
    "    D[col] = scaler.transform(D[col].values.reshape(-1, 1))\n",
    "    \n",
    "    \n",
    "    \n",
    "    \n",
    "    \n",
    "train_length=int(0.90*(len(D)))\n",
    "test_length=int(0.10*(len(D)))\n",
    "D_train=D.iloc[240:train_length,20:69]\n",
    "D_test=D.iloc[train_length:,20:69]\n",
    "\n",
    "\n",
    "Labels_train=D.iloc[240:train_length,5] \n",
    "Labels_train=pd.DataFrame(Labels_train)\n",
    "Labels_train['binaryout'] = Labels_train['DL PRB UTIL'].apply(lambda x: 1 if x >= 80 else 0)\n",
    "\n",
    "D_train=torch.tensor(np.asarray(D_train))\n",
    "D_test=torch.tensor(np.asarray(D_test))\n",
    "\n",
    "train_loader = data.DataLoader(D_train, batch_size=16, shuffle=True)\n",
    "test_loader = data.DataLoader(D_test, batch_size=16, shuffle=False)\n"
   ]
  },
  {
   "cell_type": "code",
   "execution_count": 39,
   "metadata": {},
   "outputs": [
    {
     "data": {
      "text/html": [
       "<div>\n",
       "<style scoped>\n",
       "    .dataframe tbody tr th:only-of-type {\n",
       "        vertical-align: middle;\n",
       "    }\n",
       "\n",
       "    .dataframe tbody tr th {\n",
       "        vertical-align: top;\n",
       "    }\n",
       "\n",
       "    .dataframe thead th {\n",
       "        text-align: right;\n",
       "    }\n",
       "</style>\n",
       "<table border=\"1\" class=\"dataframe\">\n",
       "  <thead>\n",
       "    <tr style=\"text-align: right;\">\n",
       "      <th></th>\n",
       "      <th>DL PRB UTIL</th>\n",
       "      <th>binaryout</th>\n",
       "    </tr>\n",
       "  </thead>\n",
       "  <tbody>\n",
       "    <tr>\n",
       "      <th>240</th>\n",
       "      <td>18.21</td>\n",
       "      <td>0</td>\n",
       "    </tr>\n",
       "    <tr>\n",
       "      <th>241</th>\n",
       "      <td>23.69</td>\n",
       "      <td>0</td>\n",
       "    </tr>\n",
       "    <tr>\n",
       "      <th>242</th>\n",
       "      <td>69.43</td>\n",
       "      <td>0</td>\n",
       "    </tr>\n",
       "    <tr>\n",
       "      <th>243</th>\n",
       "      <td>77.91</td>\n",
       "      <td>0</td>\n",
       "    </tr>\n",
       "    <tr>\n",
       "      <th>244</th>\n",
       "      <td>31.55</td>\n",
       "      <td>0</td>\n",
       "    </tr>\n",
       "    <tr>\n",
       "      <th>...</th>\n",
       "      <td>...</td>\n",
       "      <td>...</td>\n",
       "    </tr>\n",
       "    <tr>\n",
       "      <th>3019</th>\n",
       "      <td>53.68</td>\n",
       "      <td>0</td>\n",
       "    </tr>\n",
       "    <tr>\n",
       "      <th>3020</th>\n",
       "      <td>16.30</td>\n",
       "      <td>0</td>\n",
       "    </tr>\n",
       "    <tr>\n",
       "      <th>3021</th>\n",
       "      <td>32.67</td>\n",
       "      <td>0</td>\n",
       "    </tr>\n",
       "    <tr>\n",
       "      <th>3022</th>\n",
       "      <td>68.32</td>\n",
       "      <td>0</td>\n",
       "    </tr>\n",
       "    <tr>\n",
       "      <th>3023</th>\n",
       "      <td>57.93</td>\n",
       "      <td>0</td>\n",
       "    </tr>\n",
       "  </tbody>\n",
       "</table>\n",
       "<p>2322 rows × 2 columns</p>\n",
       "</div>"
      ],
      "text/plain": [
       "      DL PRB UTIL  binaryout\n",
       "240         18.21          0\n",
       "241         23.69          0\n",
       "242         69.43          0\n",
       "243         77.91          0\n",
       "244         31.55          0\n",
       "...           ...        ...\n",
       "3019        53.68          0\n",
       "3020        16.30          0\n",
       "3021        32.67          0\n",
       "3022        68.32          0\n",
       "3023        57.93          0\n",
       "\n",
       "[2322 rows x 2 columns]"
      ]
     },
     "execution_count": 39,
     "metadata": {},
     "output_type": "execute_result"
    }
   ],
   "source": [
    "Labels_train[Labels_train['binaryout']==0]"
   ]
  },
  {
   "cell_type": "markdown",
   "metadata": {},
   "source": [
    "# Creating your AutoEncoder Network"
   ]
  },
  {
   "cell_type": "code",
   "execution_count": 40,
   "metadata": {},
   "outputs": [],
   "source": [
    "class Autoencoder(nn.Module):\n",
    "    def __init__(self):\n",
    "        super(Autoencoder, self).__init__()\n",
    "        self.encoder = nn.Sequential(\n",
    "            nn.Linear(49, 500),\n",
    "            nn.ReLU(inplace=True),\n",
    "            nn.Linear(500, 250),\n",
    "            nn.ReLU(inplace=True),\n",
    "            nn.Linear(250, 50),\n",
    "            nn.ReLU(inplace=True),\n",
    "            nn.Linear(50, 3),\n",
    "            nn.ReLU(inplace=True)\n",
    "        )\n",
    "\n",
    "        self.decoder = nn.Sequential(\n",
    "            nn.Linear(3, 50),\n",
    "            nn.ReLU(inplace=True),\n",
    "            nn.Linear(50, 250),\n",
    "            nn.ReLU(inplace=True),\n",
    "            nn.Linear(250, 500),\n",
    "            nn.ReLU(inplace=True),\n",
    "            nn.Linear(500, 49),\n",
    "            #nn.Sigmoid()\n",
    "        )\n",
    "\n",
    "    def forward(self, x):\n",
    "        x = self.encoder(x)\n",
    "        x = self.decoder(x)\n",
    "        return x"
   ]
  },
  {
   "cell_type": "markdown",
   "metadata": {},
   "source": [
    "# Useful Functions For implementing Relational Function in Loss"
   ]
  },
  {
   "cell_type": "code",
   "execution_count": 41,
   "metadata": {},
   "outputs": [],
   "source": [
    "\n",
    "\n",
    "def L(X, X_, t):\n",
    "    if t == 'mse':\n",
    "        l=nn.MSELoss()\n",
    "        return l(X, X_)\n",
    "     \n",
    "\n",
    "def R(X):\n",
    "    return torch.mm(X, torch.t(X))\n",
    "\n",
    "def tau(X, t):\n",
    "    return torch.where(X < t, X.float(), torch.zeros(X.shape).float())\n",
    "\n",
    "def rae_loss(alpha, t, L_type='mse'):\n",
    "    def rae(y_true, y_pred):\n",
    "        return (1 - alpha)*L(y_true, y_pred, L_type) + alpha*L(tau(R(y_true), t), tau(R(y_pred), t), L_type)\n",
    "    return rae"
   ]
  },
  {
   "cell_type": "markdown",
   "metadata": {},
   "source": [
    "# Setting up Your Alphas"
   ]
  },
  {
   "cell_type": "code",
   "execution_count": 42,
   "metadata": {},
   "outputs": [
    {
     "name": "stdout",
     "output_type": "stream",
     "text": [
      "0.07142857142857142\n",
      "[0.         0.07142857 0.14285714 0.21428571 0.28571429 0.35714286\n",
      " 0.42857143 0.5        0.57142857 0.64285714 0.71428571 0.78571429\n",
      " 0.85714286 0.92857143 1.        ]\n"
     ]
    }
   ],
   "source": [
    "alphas = np.linspace(0, 1, 15)\n",
    "t = 1\n",
    "alpha=alphas[1]\n",
    "#alpha=0.05\n",
    "#rae_loss(alpha, t, 'mse')\n",
    "print(alpha)\n",
    "print(alphas)"
   ]
  },
  {
   "cell_type": "markdown",
   "metadata": {},
   "source": [
    "# Function For Model Train"
   ]
  },
  {
   "cell_type": "code",
   "execution_count": 43,
   "metadata": {},
   "outputs": [],
   "source": [
    "def model_training(autoencoder, train_loader, epoch):\n",
    "    #loss_metric = nn.MSELoss()\n",
    "    loss_metric =rae_loss(alpha, t, 'mse')\n",
    "    optimizer = torch.optim.Adam(autoencoder.parameters(), lr=LEARNING_RATE, weight_decay=WEIGHT_DECAY)\n",
    "    \n",
    "\n",
    "    autoencoder.train()\n",
    "    for i, data in enumerate(train_loader):\n",
    "        optimizer.zero_grad()\n",
    "        DataPoint = data.float()\n",
    "        DataPoint = Variable(DataPoint)\n",
    "        DataPoint = DataPoint.view(DataPoint.size(0), -1)\n",
    "        #if cuda: DataPoint = DataPoint.to(device)\n",
    "        outputs = autoencoder(DataPoint)\n",
    "        loss = loss_metric(outputs, DataPoint)\n",
    "        loss.backward()\n",
    "        optimizer.step()\n",
    "        if (i + 1) % LOG_INTERVAL == 0:\n",
    "            print('Epoch [{}/{}] - Iter[{}/{}], HUBER loss:{:.4f}'.format(\n",
    "                epoch + 1, EPOCHS, i + 1, len(train_loader.dataset) // BATCH_SIZE, loss.item()\n",
    "            ))"
   ]
  },
  {
   "cell_type": "markdown",
   "metadata": {},
   "source": [
    "# Function for Model Evaluation"
   ]
  },
  {
   "cell_type": "code",
   "execution_count": 44,
   "metadata": {},
   "outputs": [],
   "source": [
    "def evaluation(autoencoder, test_loader):\n",
    "    total_loss = 0\n",
    "    #loss_metric = nn.MSELoss()\n",
    "    loss_metric =rae_loss(alpha, t, 'mse')\n",
    "    autoencoder.eval()\n",
    "    for i, data in enumerate(test_loader):\n",
    "        DataPoint = data.float()\n",
    "        DataPoint = Variable(DataPoint)\n",
    "        DataPoint = DataPoint.view(DataPoint.size(0), -1)\n",
    "        #if cuda: DataPoint = DataPoint.to(device)\n",
    "        outputs = autoencoder(DataPoint)\n",
    "        loss = loss_metric(outputs, DataPoint)\n",
    "        total_loss += loss * len(DataPoint)\n",
    "    avg_loss = total_loss / len(test_loader.dataset)\n",
    "\n",
    "    print('\\nAverage MSE Loss on Test set: {:.4f}'.format(avg_loss))\n",
    "\n",
    "    global BEST_VAL\n",
    "    if TRAIN_SCRATCH and avg_loss < BEST_VAL:\n",
    "        BEST_VAL = avg_loss\n",
    "        torch.save(autoencoder.state_dict(), './simple_autoencoder.pt')\n",
    "        print('Save Best Model\\n')\n"
   ]
  },
  {
   "cell_type": "markdown",
   "metadata": {},
   "source": [
    "# Network Execution"
   ]
  },
  {
   "cell_type": "code",
   "execution_count": 45,
   "metadata": {},
   "outputs": [
    {
     "name": "stdout",
     "output_type": "stream",
     "text": [
      "Epoch [1/100] - Iter[100/27], HUBER loss:8.0869\n",
      "Train a epoch in 1 seconds\n",
      "\n",
      "Average MSE Loss on Test set: 1.2875\n",
      "Save Best Model\n",
      "\n",
      "Epoch [2/100] - Iter[100/27], HUBER loss:4.3177\n",
      "Train a epoch in 1 seconds\n",
      "\n",
      "Average MSE Loss on Test set: 1.5854\n",
      "Epoch [3/100] - Iter[100/27], HUBER loss:3.6070\n",
      "Train a epoch in 1 seconds\n",
      "\n",
      "Average MSE Loss on Test set: 1.8554\n",
      "Epoch [4/100] - Iter[100/27], HUBER loss:3.6328\n",
      "Train a epoch in 1 seconds\n",
      "\n",
      "Average MSE Loss on Test set: 1.8868\n",
      "Epoch [5/100] - Iter[100/27], HUBER loss:3.4474\n",
      "Train a epoch in 1 seconds\n",
      "\n",
      "Average MSE Loss on Test set: 1.2232\n",
      "Save Best Model\n",
      "\n",
      "Epoch [6/100] - Iter[100/27], HUBER loss:2.8630\n",
      "Train a epoch in 1 seconds\n",
      "\n",
      "Average MSE Loss on Test set: 1.5166\n",
      "Epoch [7/100] - Iter[100/27], HUBER loss:4.0934\n",
      "Train a epoch in 1 seconds\n",
      "\n",
      "Average MSE Loss on Test set: 1.5060\n",
      "Epoch [8/100] - Iter[100/27], HUBER loss:3.0101\n",
      "Train a epoch in 1 seconds\n",
      "\n",
      "Average MSE Loss on Test set: 1.6167\n",
      "Epoch [9/100] - Iter[100/27], HUBER loss:4.1633\n",
      "Train a epoch in 1 seconds\n",
      "\n",
      "Average MSE Loss on Test set: 2.0641\n",
      "Epoch [10/100] - Iter[100/27], HUBER loss:3.1471\n",
      "Train a epoch in 1 seconds\n",
      "\n",
      "Average MSE Loss on Test set: 1.7762\n",
      "Epoch [11/100] - Iter[100/27], HUBER loss:4.6135\n",
      "Train a epoch in 1 seconds\n",
      "\n",
      "Average MSE Loss on Test set: 1.7900\n",
      "Epoch [12/100] - Iter[100/27], HUBER loss:2.8895\n",
      "Train a epoch in 1 seconds\n",
      "\n",
      "Average MSE Loss on Test set: 1.6385\n",
      "Epoch [13/100] - Iter[100/27], HUBER loss:3.7774\n",
      "Train a epoch in 1 seconds\n",
      "\n",
      "Average MSE Loss on Test set: 1.6112\n",
      "Epoch [14/100] - Iter[100/27], HUBER loss:2.5888\n",
      "Train a epoch in 1 seconds\n",
      "\n",
      "Average MSE Loss on Test set: 1.4909\n",
      "Epoch [15/100] - Iter[100/27], HUBER loss:2.9634\n",
      "Train a epoch in 1 seconds\n",
      "\n",
      "Average MSE Loss on Test set: 1.7085\n",
      "Epoch [16/100] - Iter[100/27], HUBER loss:2.9903\n",
      "Train a epoch in 1 seconds\n",
      "\n",
      "Average MSE Loss on Test set: 1.5068\n",
      "Epoch [17/100] - Iter[100/27], HUBER loss:4.3810\n",
      "Train a epoch in 1 seconds\n",
      "\n",
      "Average MSE Loss on Test set: 1.2326\n",
      "Epoch [18/100] - Iter[100/27], HUBER loss:3.0585\n",
      "Train a epoch in 1 seconds\n",
      "\n",
      "Average MSE Loss on Test set: 1.5429\n",
      "Epoch [19/100] - Iter[100/27], HUBER loss:2.9468\n",
      "Train a epoch in 1 seconds\n",
      "\n",
      "Average MSE Loss on Test set: 1.4813\n",
      "Epoch [20/100] - Iter[100/27], HUBER loss:4.0165\n",
      "Train a epoch in 1 seconds\n",
      "\n",
      "Average MSE Loss on Test set: 1.3671\n",
      "Epoch [21/100] - Iter[100/27], HUBER loss:2.6001\n",
      "Train a epoch in 1 seconds\n",
      "\n",
      "Average MSE Loss on Test set: 1.6498\n",
      "Epoch [22/100] - Iter[100/27], HUBER loss:2.5606\n",
      "Train a epoch in 1 seconds\n",
      "\n",
      "Average MSE Loss on Test set: 1.6378\n",
      "Epoch [23/100] - Iter[100/27], HUBER loss:2.0726\n",
      "Train a epoch in 1 seconds\n",
      "\n",
      "Average MSE Loss on Test set: 1.1434\n",
      "Save Best Model\n",
      "\n",
      "Epoch [24/100] - Iter[100/27], HUBER loss:3.6489\n",
      "Train a epoch in 1 seconds\n",
      "\n",
      "Average MSE Loss on Test set: 1.1682\n",
      "Epoch [25/100] - Iter[100/27], HUBER loss:2.0672\n",
      "Train a epoch in 1 seconds\n",
      "\n",
      "Average MSE Loss on Test set: 1.3047\n",
      "Epoch [26/100] - Iter[100/27], HUBER loss:4.0765\n",
      "Train a epoch in 1 seconds\n",
      "\n",
      "Average MSE Loss on Test set: 1.4912\n",
      "Epoch [27/100] - Iter[100/27], HUBER loss:3.1184\n",
      "Train a epoch in 1 seconds\n",
      "\n",
      "Average MSE Loss on Test set: 1.2531\n",
      "Epoch [28/100] - Iter[100/27], HUBER loss:1.9233\n",
      "Train a epoch in 1 seconds\n",
      "\n",
      "Average MSE Loss on Test set: 1.6930\n",
      "Epoch [29/100] - Iter[100/27], HUBER loss:2.2739\n",
      "Train a epoch in 1 seconds\n",
      "\n",
      "Average MSE Loss on Test set: 1.3179\n",
      "Epoch [30/100] - Iter[100/27], HUBER loss:3.2572\n",
      "Train a epoch in 1 seconds\n",
      "\n",
      "Average MSE Loss on Test set: 1.2050\n",
      "Epoch [31/100] - Iter[100/27], HUBER loss:2.1028\n",
      "Train a epoch in 1 seconds\n",
      "\n",
      "Average MSE Loss on Test set: 1.3425\n",
      "Epoch [32/100] - Iter[100/27], HUBER loss:2.2345\n",
      "Train a epoch in 1 seconds\n",
      "\n",
      "Average MSE Loss on Test set: 1.3958\n",
      "Epoch [33/100] - Iter[100/27], HUBER loss:2.7345\n",
      "Train a epoch in 1 seconds\n",
      "\n",
      "Average MSE Loss on Test set: 1.2423\n",
      "Epoch [34/100] - Iter[100/27], HUBER loss:1.8402\n",
      "Train a epoch in 1 seconds\n",
      "\n",
      "Average MSE Loss on Test set: 1.1759\n",
      "Epoch [35/100] - Iter[100/27], HUBER loss:2.3715\n",
      "Train a epoch in 1 seconds\n",
      "\n",
      "Average MSE Loss on Test set: 1.4558\n",
      "Epoch [36/100] - Iter[100/27], HUBER loss:2.5505\n",
      "Train a epoch in 1 seconds\n",
      "\n",
      "Average MSE Loss on Test set: 1.4240\n",
      "Epoch [37/100] - Iter[100/27], HUBER loss:2.6969\n",
      "Train a epoch in 1 seconds\n",
      "\n",
      "Average MSE Loss on Test set: 1.2838\n",
      "Epoch [38/100] - Iter[100/27], HUBER loss:2.8621\n",
      "Train a epoch in 1 seconds\n",
      "\n",
      "Average MSE Loss on Test set: 1.6297\n",
      "Epoch [39/100] - Iter[100/27], HUBER loss:2.0182\n",
      "Train a epoch in 1 seconds\n",
      "\n",
      "Average MSE Loss on Test set: 1.2974\n",
      "Epoch [40/100] - Iter[100/27], HUBER loss:1.7834\n",
      "Train a epoch in 1 seconds\n",
      "\n",
      "Average MSE Loss on Test set: 1.2798\n",
      "Epoch [41/100] - Iter[100/27], HUBER loss:1.8591\n",
      "Train a epoch in 1 seconds\n",
      "\n",
      "Average MSE Loss on Test set: 1.3435\n",
      "Epoch [42/100] - Iter[100/27], HUBER loss:3.0036\n",
      "Train a epoch in 1 seconds\n",
      "\n",
      "Average MSE Loss on Test set: 1.4014\n",
      "Epoch [43/100] - Iter[100/27], HUBER loss:2.2813\n",
      "Train a epoch in 1 seconds\n",
      "\n",
      "Average MSE Loss on Test set: 1.3670\n",
      "Epoch [44/100] - Iter[100/27], HUBER loss:3.4590\n",
      "Train a epoch in 1 seconds\n",
      "\n",
      "Average MSE Loss on Test set: 1.5158\n",
      "Epoch [45/100] - Iter[100/27], HUBER loss:2.2474\n",
      "Train a epoch in 1 seconds\n",
      "\n",
      "Average MSE Loss on Test set: 1.3460\n",
      "Epoch [46/100] - Iter[100/27], HUBER loss:3.9290\n",
      "Train a epoch in 1 seconds\n",
      "\n",
      "Average MSE Loss on Test set: 1.4891\n",
      "Epoch [47/100] - Iter[100/27], HUBER loss:2.1529\n",
      "Train a epoch in 1 seconds\n",
      "\n",
      "Average MSE Loss on Test set: 2.0568\n",
      "Epoch [48/100] - Iter[100/27], HUBER loss:2.5221\n",
      "Train a epoch in 1 seconds\n",
      "\n",
      "Average MSE Loss on Test set: 1.4330\n",
      "Epoch [49/100] - Iter[100/27], HUBER loss:1.4810\n",
      "Train a epoch in 1 seconds\n",
      "\n",
      "Average MSE Loss on Test set: 1.5733\n",
      "Epoch [50/100] - Iter[100/27], HUBER loss:1.6322\n",
      "Train a epoch in 1 seconds\n",
      "\n",
      "Average MSE Loss on Test set: 1.3237\n",
      "Epoch [51/100] - Iter[100/27], HUBER loss:2.5933\n",
      "Train a epoch in 1 seconds\n",
      "\n",
      "Average MSE Loss on Test set: 1.3137\n",
      "Epoch [52/100] - Iter[100/27], HUBER loss:1.8698\n",
      "Train a epoch in 1 seconds\n",
      "\n",
      "Average MSE Loss on Test set: 1.5121\n",
      "Epoch [53/100] - Iter[100/27], HUBER loss:1.2647\n",
      "Train a epoch in 1 seconds\n",
      "\n",
      "Average MSE Loss on Test set: 1.2599\n",
      "Epoch [54/100] - Iter[100/27], HUBER loss:1.6977\n",
      "Train a epoch in 1 seconds\n",
      "\n",
      "Average MSE Loss on Test set: 1.2179\n",
      "Epoch [55/100] - Iter[100/27], HUBER loss:1.5258\n",
      "Train a epoch in 1 seconds\n",
      "\n",
      "Average MSE Loss on Test set: 1.5515\n",
      "Epoch [56/100] - Iter[100/27], HUBER loss:1.8609\n",
      "Train a epoch in 1 seconds\n",
      "\n",
      "Average MSE Loss on Test set: 1.2451\n",
      "Epoch [57/100] - Iter[100/27], HUBER loss:1.2909\n",
      "Train a epoch in 1 seconds\n",
      "\n",
      "Average MSE Loss on Test set: 1.3032\n",
      "Epoch [58/100] - Iter[100/27], HUBER loss:1.8965\n",
      "Train a epoch in 1 seconds\n",
      "\n",
      "Average MSE Loss on Test set: 1.3245\n",
      "Epoch [59/100] - Iter[100/27], HUBER loss:1.3781\n",
      "Train a epoch in 1 seconds\n",
      "\n",
      "Average MSE Loss on Test set: 1.1316\n",
      "Save Best Model\n",
      "\n",
      "Epoch [60/100] - Iter[100/27], HUBER loss:1.6881\n",
      "Train a epoch in 1 seconds\n",
      "\n",
      "Average MSE Loss on Test set: 1.4797\n",
      "Epoch [61/100] - Iter[100/27], HUBER loss:1.0610\n",
      "Train a epoch in 1 seconds\n",
      "\n",
      "Average MSE Loss on Test set: 1.1809\n",
      "Epoch [62/100] - Iter[100/27], HUBER loss:2.1565\n",
      "Train a epoch in 1 seconds\n",
      "\n",
      "Average MSE Loss on Test set: 1.4269\n",
      "Epoch [63/100] - Iter[100/27], HUBER loss:1.7529\n",
      "Train a epoch in 1 seconds\n",
      "\n",
      "Average MSE Loss on Test set: 1.5892\n",
      "Epoch [64/100] - Iter[100/27], HUBER loss:1.5191\n",
      "Train a epoch in 1 seconds\n",
      "\n",
      "Average MSE Loss on Test set: 1.2775\n",
      "Epoch [65/100] - Iter[100/27], HUBER loss:1.1134\n",
      "Train a epoch in 1 seconds\n",
      "\n",
      "Average MSE Loss on Test set: 1.4286\n",
      "Epoch [66/100] - Iter[100/27], HUBER loss:1.7008\n",
      "Train a epoch in 1 seconds\n",
      "\n",
      "Average MSE Loss on Test set: 1.3080\n",
      "Epoch [67/100] - Iter[100/27], HUBER loss:2.0818\n",
      "Train a epoch in 1 seconds\n",
      "\n",
      "Average MSE Loss on Test set: 1.1692\n",
      "Epoch [68/100] - Iter[100/27], HUBER loss:1.2003\n",
      "Train a epoch in 1 seconds\n",
      "\n",
      "Average MSE Loss on Test set: 1.2120\n",
      "Epoch [69/100] - Iter[100/27], HUBER loss:2.4313\n",
      "Train a epoch in 1 seconds\n",
      "\n",
      "Average MSE Loss on Test set: 1.2194\n",
      "Epoch [70/100] - Iter[100/27], HUBER loss:1.5403\n",
      "Train a epoch in 1 seconds\n",
      "\n",
      "Average MSE Loss on Test set: 0.9802\n",
      "Save Best Model\n",
      "\n",
      "Epoch [71/100] - Iter[100/27], HUBER loss:1.6664\n",
      "Train a epoch in 1 seconds\n",
      "\n",
      "Average MSE Loss on Test set: 1.3043\n",
      "Epoch [72/100] - Iter[100/27], HUBER loss:1.1981\n",
      "Train a epoch in 1 seconds\n",
      "\n",
      "Average MSE Loss on Test set: 1.2154\n",
      "Epoch [73/100] - Iter[100/27], HUBER loss:1.5893\n",
      "Train a epoch in 1 seconds\n",
      "\n",
      "Average MSE Loss on Test set: 1.1749\n",
      "Epoch [74/100] - Iter[100/27], HUBER loss:1.9022\n",
      "Train a epoch in 1 seconds\n",
      "\n",
      "Average MSE Loss on Test set: 1.1467\n",
      "Epoch [75/100] - Iter[100/27], HUBER loss:1.5388\n",
      "Train a epoch in 1 seconds\n",
      "\n",
      "Average MSE Loss on Test set: 1.0931\n",
      "Epoch [76/100] - Iter[100/27], HUBER loss:1.0139\n",
      "Train a epoch in 1 seconds\n",
      "\n",
      "Average MSE Loss on Test set: 1.2170\n",
      "Epoch [77/100] - Iter[100/27], HUBER loss:1.5369\n",
      "Train a epoch in 1 seconds\n",
      "\n",
      "Average MSE Loss on Test set: 1.3751\n",
      "Epoch [78/100] - Iter[100/27], HUBER loss:1.1792\n",
      "Train a epoch in 1 seconds\n",
      "\n",
      "Average MSE Loss on Test set: 1.1299\n",
      "Epoch [79/100] - Iter[100/27], HUBER loss:1.4851\n",
      "Train a epoch in 1 seconds\n",
      "\n",
      "Average MSE Loss on Test set: 1.1547\n",
      "Epoch [80/100] - Iter[100/27], HUBER loss:0.9420\n",
      "Train a epoch in 1 seconds\n",
      "\n",
      "Average MSE Loss on Test set: 1.1712\n",
      "Epoch [81/100] - Iter[100/27], HUBER loss:1.6971\n",
      "Train a epoch in 1 seconds\n",
      "\n",
      "Average MSE Loss on Test set: 1.0966\n",
      "Epoch [82/100] - Iter[100/27], HUBER loss:1.2020\n",
      "Train a epoch in 1 seconds\n",
      "\n",
      "Average MSE Loss on Test set: 1.2290\n",
      "Epoch [83/100] - Iter[100/27], HUBER loss:1.2676\n",
      "Train a epoch in 1 seconds\n",
      "\n",
      "Average MSE Loss on Test set: 1.1543\n",
      "Epoch [84/100] - Iter[100/27], HUBER loss:1.1832\n",
      "Train a epoch in 1 seconds\n",
      "\n",
      "Average MSE Loss on Test set: 1.1458\n",
      "Epoch [85/100] - Iter[100/27], HUBER loss:1.4653\n",
      "Train a epoch in 1 seconds\n",
      "\n",
      "Average MSE Loss on Test set: 1.5953\n",
      "Epoch [86/100] - Iter[100/27], HUBER loss:2.1619\n",
      "Train a epoch in 1 seconds\n",
      "\n",
      "Average MSE Loss on Test set: 1.1150\n",
      "Epoch [87/100] - Iter[100/27], HUBER loss:1.3547\n",
      "Train a epoch in 1 seconds\n",
      "\n",
      "Average MSE Loss on Test set: 0.9865\n",
      "Epoch [88/100] - Iter[100/27], HUBER loss:1.0075\n",
      "Train a epoch in 1 seconds\n",
      "\n",
      "Average MSE Loss on Test set: 1.1129\n",
      "Epoch [89/100] - Iter[100/27], HUBER loss:1.3081\n",
      "Train a epoch in 1 seconds\n",
      "\n",
      "Average MSE Loss on Test set: 0.9385\n",
      "Save Best Model\n",
      "\n",
      "Epoch [90/100] - Iter[100/27], HUBER loss:1.5795\n",
      "Train a epoch in 1 seconds\n",
      "\n",
      "Average MSE Loss on Test set: 1.1243\n",
      "Epoch [91/100] - Iter[100/27], HUBER loss:1.3143\n",
      "Train a epoch in 1 seconds\n",
      "\n",
      "Average MSE Loss on Test set: 1.1391\n",
      "Epoch [92/100] - Iter[100/27], HUBER loss:0.9367\n",
      "Train a epoch in 1 seconds\n",
      "\n",
      "Average MSE Loss on Test set: 0.8891\n",
      "Save Best Model\n",
      "\n",
      "Epoch [93/100] - Iter[100/27], HUBER loss:1.8057\n",
      "Train a epoch in 1 seconds\n",
      "\n",
      "Average MSE Loss on Test set: 1.1340\n",
      "Epoch [94/100] - Iter[100/27], HUBER loss:1.5477\n",
      "Train a epoch in 1 seconds\n",
      "\n",
      "Average MSE Loss on Test set: 1.0787\n",
      "Epoch [95/100] - Iter[100/27], HUBER loss:2.2953\n",
      "Train a epoch in 1 seconds\n",
      "\n",
      "Average MSE Loss on Test set: 0.8758\n",
      "Save Best Model\n",
      "\n",
      "Epoch [96/100] - Iter[100/27], HUBER loss:1.6016\n",
      "Train a epoch in 1 seconds\n",
      "\n",
      "Average MSE Loss on Test set: 1.2456\n",
      "Epoch [97/100] - Iter[100/27], HUBER loss:1.6328\n",
      "Train a epoch in 1 seconds\n",
      "\n",
      "Average MSE Loss on Test set: 1.1404\n",
      "Epoch [98/100] - Iter[100/27], HUBER loss:2.1009\n",
      "Train a epoch in 1 seconds\n",
      "\n",
      "Average MSE Loss on Test set: 1.0108\n",
      "Epoch [99/100] - Iter[100/27], HUBER loss:1.4339\n",
      "Train a epoch in 1 seconds\n",
      "\n",
      "Average MSE Loss on Test set: 1.2414\n",
      "Epoch [100/100] - Iter[100/27], HUBER loss:1.4089\n",
      "Train a epoch in 1 seconds\n",
      "\n",
      "Average MSE Loss on Test set: 1.1122\n",
      "Trainig Complete with best validation loss 0.8758\n"
     ]
    }
   ],
   "source": [
    "import datetime\n",
    "\n",
    "if __name__ == '__main__':\n",
    "\n",
    "    EPOCHS = 100\n",
    "    BATCH_SIZE = 100\n",
    "    LEARNING_RATE = 1e-3\n",
    "    WEIGHT_DECAY = 1e-5\n",
    "    LOG_INTERVAL = 100\n",
    "    TRAIN_SCRATCH = True        # whether to train a model from scratch\n",
    "    BEST_VAL = float('inf')     # record the best val loss\n",
    "\n",
    "    #train_loader, test_loader = data_utils.load_mnist(BATCH_SIZE)\n",
    "    torch.manual_seed(39)\n",
    "\n",
    "    autoencoder = Autoencoder()\n",
    "    #if cuda: autoencoder.to(device)\n",
    "\n",
    "    if TRAIN_SCRATCH:\n",
    "        # Training autoencoder from scratch\n",
    "        for epoch in range(EPOCHS):\n",
    "            starttime = datetime.datetime.now()\n",
    "            model_training(autoencoder, train_loader, epoch)\n",
    "            endtime = datetime.datetime.now()\n",
    "            print(f'Train a epoch in {(endtime - starttime).seconds} seconds')\n",
    "            # evaluate on test set and save best model\n",
    "            evaluation(autoencoder, test_loader)\n",
    "        print('Trainig Complete with best validation loss {:.4f}'.format(BEST_VAL))\n",
    "\n",
    "    else:\n",
    "        autoencoder.load_state_dict(torch.load('/simple_autoencoder.pt'))\n",
    "        evaluation(autoencoder, test_loader)\n",
    "\n",
    "        autoencoder.cpu()\n",
    "        dataiter = iter(train_loader)\n",
    "        DataPoint, _ = next(dataiter)\n",
    "        DataPoint = Variable(DataPoint[:32])\n",
    "        outputs = autoencoder(DataPoint.view(DataPoint.size(0), -1))\n",
    "\n"
   ]
  },
  {
   "cell_type": "markdown",
   "metadata": {},
   "source": [
    "# Visualizing on of the Samples"
   ]
  },
  {
   "cell_type": "markdown",
   "metadata": {},
   "source": [
    "# For Alpha=0"
   ]
  },
  {
   "cell_type": "code",
   "execution_count": 30,
   "metadata": {},
   "outputs": [
    {
     "data": {
      "text/plain": [
       "[<matplotlib.lines.Line2D at 0x7f0030069080>]"
      ]
     },
     "execution_count": 30,
     "metadata": {},
     "output_type": "execute_result"
    },
    {
     "data": {
      "image/png": "[encoded data removed]",
      "text/plain": [
       "<Figure size 432x288 with 1 Axes>"
      ]
     },
     "metadata": {
      "needs_background": "light"
     },
     "output_type": "display_data"
    }
   ],
   "source": [
    "x = D_train[200].float()\n",
    "enc_output = autoencoder.decoder(autoencoder.encoder(x))\n",
    "\n",
    "\n",
    "xhat=np.array(list(enc_output))\n",
    "x=np.array(list(x))\n",
    "\n",
    "import matplotlib.pyplot as plt\n",
    "plt.plot(x)\n",
    "plt.plot(xhat)"
   ]
  },
  {
   "cell_type": "markdown",
   "metadata": {},
   "source": [
    "# Module for Feature Embedding"
   ]
  },
  {
   "cell_type": "code",
   "execution_count": 31,
   "metadata": {},
   "outputs": [],
   "source": [
    "x = D_train.float()\n",
    "dec_output = autoencoder.decoder(autoencoder.encoder(x))\n",
    "enc_output = autoencoder.encoder(x)\n",
    "#enc_outputt=list(enc_output)\n",
    "enc_outputt=(enc_output).detach().numpy()"
   ]
  },
  {
   "cell_type": "code",
   "execution_count": 32,
   "metadata": {},
   "outputs": [
    {
     "data": {
      "text/plain": [
       "array([[ 0.4880912 ,  6.3007784 ,  3.6048012 ],\n",
       "       [ 0.13819584,  0.38005137,  1.2404145 ],\n",
       "       [22.479778  , 23.938543  , 18.071741  ],\n",
       "       ...,\n",
       "       [ 1.1073712 ,  1.7295833 ,  4.522964  ],\n",
       "       [15.17144   ,  7.3445363 , 11.245966  ],\n",
       "       [12.079264  ,  4.558415  ,  7.9865    ]], dtype=float32)"
      ]
     },
     "execution_count": 32,
     "metadata": {},
     "output_type": "execute_result"
    }
   ],
   "source": [
    "enc_outputt"
   ]
  },
  {
   "cell_type": "code",
   "execution_count": 33,
   "metadata": {},
   "outputs": [
    {
     "data": {
      "text/plain": [
       "((2784, 2), torch.Size([2784, 3]))"
      ]
     },
     "execution_count": 33,
     "metadata": {},
     "output_type": "execute_result"
    }
   ],
   "source": [
    "Labels_train.shape,enc_output.shape"
   ]
  },
  {
   "cell_type": "markdown",
   "metadata": {},
   "source": [
    "# Plotting Extracted Feature in Lower Spaces"
   ]
  },
  {
   "cell_type": "code",
   "execution_count": 34,
   "metadata": {},
   "outputs": [
    {
     "data": {
      "image/png": "[encoded data removed]",
      "text/plain": [
       "<Figure size 432x288 with 1 Axes>"
      ]
     },
     "metadata": {
      "needs_background": "light"
     },
     "output_type": "display_data"
    }
   ],
   "source": [
    "import numpy as np\n",
    "from matplotlib import pyplot as plt\n",
    "from mpl_toolkits.mplot3d import Axes3D\n",
    "import matplotlib.pyplot as plt\n",
    "\n",
    "scatter_x = enc_outputt[:, 2]\n",
    "scatter_y = enc_outputt[:, 0]\n",
    "scatter_z= enc_outputt[:, 1]\n",
    "\n",
    "group = np.asarray(Labels_train.iloc[:,1])\n",
    "cdict = {1: 'red', 0: 'green'}\n",
    "\n",
    "\n",
    "fig = plt.figure()\n",
    "ax = fig.add_subplot(111, projection='3d')\n",
    "#fig, ax = plt.subplots()\n",
    "for g in np.unique(group):\n",
    "    ix = np.where(group == g)\n",
    "    ax.scatter(scatter_z[ix],scatter_x[ix],scatter_y[ix], c = cdict[g], label = g)\n",
    "ax.legend()\n",
    "plt.show()\n",
    "\n",
    "#s = 100"
   ]
  },
  {
   "cell_type": "code",
   "execution_count": 35,
   "metadata": {},
   "outputs": [
    {
     "data": {
      "image/png": "[encoded data removed]",
      "text/plain": [
       "<Figure size 432x288 with 1 Axes>"
      ]
     },
     "metadata": {
      "needs_background": "light"
     },
     "output_type": "display_data"
    }
   ],
   "source": [
    "import numpy as np\n",
    "from matplotlib import pyplot as plt\n",
    "from mpl_toolkits.mplot3d import Axes3D\n",
    "import matplotlib.pyplot as plt\n",
    "\n",
    "scatter_x = enc_outputt[:, 0]\n",
    "scatter_y = enc_outputt[:, 1]\n",
    "#scatter_z= X_embedded[:, 2]\n",
    "group = np.asarray(Labels_train.iloc[:,1])\n",
    "cdict = {1: 'red', 0: 'green'}\n",
    "\n",
    "\n",
    "\n",
    "fig, ax = plt.subplots()\n",
    "for g in np.unique(group):\n",
    "    ix = np.where(group == g)\n",
    "    ax.scatter(scatter_x[ix], scatter_y[ix], c = cdict[g], label = g)\n",
    "ax.legend()\n",
    "plt.show()\n",
    "\n",
    "#s = 100"
   ]
  },
  {
   "cell_type": "code",
   "execution_count": null,
   "metadata": {},
   "outputs": [],
   "source": []
  },
  {
   "cell_type": "code",
   "execution_count": 36,
   "metadata": {},
   "outputs": [],
   "source": [
    "##autoencoder.state_dict()"
   ]
  },
  {
   "cell_type": "code",
   "execution_count": null,
   "metadata": {},
   "outputs": [],
   "source": []
  },
  {
   "cell_type": "code",
   "execution_count": null,
   "metadata": {},
   "outputs": [],
   "source": []
  },
  {
   "cell_type": "markdown",
   "metadata": {},
   "source": [
    "# For Alpha=0.07"
   ]
  },
  {
   "cell_type": "code",
   "execution_count": 46,
   "metadata": {},
   "outputs": [
    {
     "data": {
      "text/plain": [
       "[<matplotlib.lines.Line2D at 0x7f00634d06d8>]"
      ]
     },
     "execution_count": 46,
     "metadata": {},
     "output_type": "execute_result"
    },
    {
     "data": {
      "image/png": "[encoded data removed]",
      "text/plain": [
       "<Figure size 432x288 with 1 Axes>"
      ]
     },
     "metadata": {
      "needs_background": "light"
     },
     "output_type": "display_data"
    }
   ],
   "source": [
    "x = D_train[200].float()\n",
    "enc_output = autoencoder.decoder(autoencoder.encoder(x))\n",
    "\n",
    "\n",
    "xhat=np.array(list(enc_output))\n",
    "x=np.array(list(x))\n",
    "\n",
    "import matplotlib.pyplot as plt\n",
    "plt.plot(x)\n",
    "plt.plot(xhat)"
   ]
  },
  {
   "cell_type": "code",
   "execution_count": 47,
   "metadata": {},
   "outputs": [],
   "source": [
    "x = D_train.float()\n",
    "dec_output = autoencoder.decoder(autoencoder.encoder(x))\n",
    "enc_output = autoencoder.encoder(x)\n",
    "#enc_outputt=list(enc_output)\n",
    "enc_outputt=(enc_output).detach().numpy()"
   ]
  },
  {
   "cell_type": "markdown",
   "metadata": {},
   "source": [
    "# In 3D"
   ]
  },
  {
   "cell_type": "code",
   "execution_count": 48,
   "metadata": {},
   "outputs": [
    {
     "data": {
      "image/png": "[encoded data removed]",
      "text/plain": [
       "<Figure size 432x288 with 1 Axes>"
      ]
     },
     "metadata": {
      "needs_background": "light"
     },
     "output_type": "display_data"
    }
   ],
   "source": [
    "import numpy as np\n",
    "from matplotlib import pyplot as plt\n",
    "from mpl_toolkits.mplot3d import Axes3D\n",
    "import matplotlib.pyplot as plt\n",
    "\n",
    "scatter_x = enc_outputt[:, 2]\n",
    "scatter_y = enc_outputt[:, 0]\n",
    "scatter_z= enc_outputt[:, 1]\n",
    "\n",
    "group = np.asarray(Labels_train.iloc[:,1])\n",
    "cdict = {1: 'red', 0: 'green'}\n",
    "\n",
    "\n",
    "fig = plt.figure()\n",
    "ax = fig.add_subplot(111, projection='3d')\n",
    "#fig, ax = plt.subplots()\n",
    "for g in np.unique(group):\n",
    "    ix = np.where(group == g)\n",
    "    ax.scatter(scatter_z[ix],scatter_x[ix],scatter_y[ix], c = cdict[g], label = g)\n",
    "ax.legend()\n",
    "plt.show()\n",
    "\n",
    "#s = 100"
   ]
  },
  {
   "cell_type": "markdown",
   "metadata": {},
   "source": [
    "# In 2D"
   ]
  },
  {
   "cell_type": "code",
   "execution_count": 49,
   "metadata": {},
   "outputs": [
    {
     "data": {
      "image/png": "[encoded data removed]",
      "text/plain": [
       "<Figure size 432x288 with 1 Axes>"
      ]
     },
     "metadata": {
      "needs_background": "light"
     },
     "output_type": "display_data"
    }
   ],
   "source": [
    "import numpy as np\n",
    "from matplotlib import pyplot as plt\n",
    "from mpl_toolkits.mplot3d import Axes3D\n",
    "import matplotlib.pyplot as plt\n",
    "\n",
    "scatter_x = enc_outputt[:, 0]\n",
    "scatter_y = enc_outputt[:, 1]\n",
    "#scatter_z= X_embedded[:, 2]\n",
    "group = np.asarray(Labels_train.iloc[:,1])\n",
    "cdict = {1: 'red', 0: 'green'}\n",
    "\n",
    "\n",
    "\n",
    "fig, ax = plt.subplots()\n",
    "for g in np.unique(group):\n",
    "    ix = np.where(group == g)\n",
    "    ax.scatter(scatter_x[ix], scatter_y[ix], c = cdict[g], label = g)\n",
    "ax.legend()\n",
    "plt.show()\n",
    "\n",
    "#s = 100"
   ]
  },
  {
   "cell_type": "markdown",
   "metadata": {},
   "source": [
    "## END AutoENCODER"
   ]
  },
  {
   "cell_type": "code",
   "execution_count": null,
   "metadata": {},
   "outputs": [],
   "source": []
  }
 ],
 "metadata": {
  "kernelspec": {
   "display_name": "Python 3",
   "language": "python",
   "name": "python3"
  },
  "language_info": {
   "codemirror_mode": {
    "name": "ipython",
    "version": 3
   },
   "file_extension": ".py",
   "mimetype": "text/x-python",
   "name": "python",
   "nbconvert_exporter": "python",
   "pygments_lexer": "ipython3",
   "version": "3.6.8"
  }
 },
 "nbformat": 4,
 "nbformat_minor": 4
}
